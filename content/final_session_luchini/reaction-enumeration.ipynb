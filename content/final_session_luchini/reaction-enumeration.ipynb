{
 "cells": [
  {
   "cell_type": "markdown",
   "metadata": {},
   "source": [
    "# Virtual Reaction Enumeration\n",
    "\n",
    "Starting from a core scaffold, the RDKit can help us perform virtual reaction enumeration for further screening.\n",
    "\n",
    "\n",
    "Packages required for this notebook include `rdkit`, `pandas`, and `matplotlib` \n"
   ]
  },
  {
   "cell_type": "code",
   "execution_count": null,
   "metadata": {},
   "outputs": [],
   "source": [
    "# Import required libraries\n",
    "import pandas as pd\n",
    "from rdkit import Chem\n",
    "from rdkit.Chem import Draw\n",
    "from rdkit.Chem import rdChemReactions"
   ]
  },
  {
   "cell_type": "code",
   "execution_count": null,
   "metadata": {},
   "outputs": [],
   "source": [
    "#Load core scaffold: carboxylic acid with pyrazole, benzisoxazole\n",
    "core_scaffold_smiles = 'Cc1nn(c2ccc3onc(N)c3c2)c(C(O)=O)c1'\n",
    "core_scaffold = Chem.MolFromSmiles(core_scaffold_smiles)"
   ]
  },
  {
   "cell_type": "code",
   "execution_count": null,
   "metadata": {},
   "outputs": [],
   "source": [
    "core_scaffold"
   ]
  },
  {
   "cell_type": "code",
   "execution_count": null,
   "metadata": {},
   "outputs": [],
   "source": [
    "# Load amine substituents from CSV\n",
    "amine_df = pd.read_csv('amine_substituents.csv')\n",
    "\n",
    "amine_df.head(20)"
   ]
  },
  {
   "cell_type": "code",
   "execution_count": null,
   "metadata": {},
   "outputs": [],
   "source": [
    "# Convert SMILES to molecule objects\n",
    "amine_df['mol'] = amine_df['SMILES'].apply(Chem.MolFromSmiles)\n",
    "\n",
    "# Create molecule grid display\n",
    "mols = amine_df['mol'].tolist()\n",
    "legends = amine_df['Name'].tolist()\n",
    "\n",
    "# Display grid of amine reagents\n",
    "Draw.MolsToGridImage(mols, molsPerRow=4, legends=legends, subImgSize=(200, 150))"
   ]
  },
  {
   "cell_type": "code",
   "execution_count": null,
   "metadata": {},
   "outputs": [],
   "source": [
    "# Set up the reaction \n",
    "smirks_pattern = '[c:1][C:2](=O)[OH].[N:4]>>[c:1][C:2](=O)[N:4]'\n",
    "rxn = rdChemReactions.ReactionFromSmarts(smirks_pattern)\n",
    "rxn"
   ]
  },
  {
   "cell_type": "code",
   "execution_count": null,
   "metadata": {},
   "outputs": [],
   "source": [
    "#Let's run an example amide formation\n",
    "\n",
    "# Define reactants\n",
    "reactant1 = core_scaffold\n",
    "reactant2 = Chem.MolFromSmiles('C1COCCN1')\n",
    "\n",
    "# Run the reaction\n",
    "products = rxn.RunReactants((reactant1, reactant2))\n",
    "\n",
    "# Get the product molecules\n",
    "for product_set in products:\n",
    "  for mol in product_set:\n",
    "      # Sanitize the molecule\n",
    "      Chem.SanitizeMol(mol)\n",
    "mol"
   ]
  },
  {
   "cell_type": "code",
   "execution_count": null,
   "metadata": {},
   "outputs": [],
   "source": [
    "# Ok now let's run all our amines through the reaction\n",
    "amines = amine_df['mol'].tolist()\n",
    "\n",
    "all_products = []\n",
    "prod_smi = []\n",
    "for amine in amines:\n",
    "  products = rxn.RunReactants((core_scaffold, amine))\n",
    "  for product_set in products:\n",
    "      for mol in product_set:\n",
    "          Chem.SanitizeMol(mol)\n",
    "          all_products.append(mol)\n",
    "          prod_smi.append(Chem.MolToSmiles(mol))\n",
    "\n",
    "amine_df['product mol'] = all_products\n",
    "amine_df['product smiles'] = prod_smi\n",
    "# Display grid of amide products\n",
    "Draw.MolsToGridImage(all_products, molsPerRow=4, legends=legends, subImgSize=(200, 150))"
   ]
  },
  {
   "cell_type": "code",
   "execution_count": null,
   "metadata": {},
   "outputs": [],
   "source": [
    "amine_df.head()"
   ]
  },
  {
   "cell_type": "markdown",
   "metadata": {},
   "source": [
    "# Now What???\n",
    "\n",
    "Different projects have different problems they're trying to solve. We can screen molecules through docking, predicting properties, or assessing synthetic accessibility. \n",
    "\n",
    "The RDKit has many built in properties (see here: https://www.rdkit.org/docs/source/rdkit.Chem.rdMolDescriptors.html).\n",
    "\n",
    "AQME and Robert can also be used to compute properties and evaluate trends.\n",
    "\n",
    "Let's take a look at some of the properties of the molecules"
   ]
  },
  {
   "cell_type": "code",
   "execution_count": null,
   "metadata": {},
   "outputs": [],
   "source": [
    "product_df = amine_df[['Name','product smiles','product mol']]\n",
    "product_df.head()"
   ]
  },
  {
   "cell_type": "code",
   "execution_count": null,
   "metadata": {},
   "outputs": [],
   "source": [
    "from rdkit.Chem import rdMolDescriptors\n",
    "from rdkit.Chem import Descriptors\n",
    "from rdkit.Chem import QED"
   ]
  },
  {
   "cell_type": "code",
   "execution_count": null,
   "metadata": {},
   "outputs": [],
   "source": [
    "mol = product_df['product mol'][0]\n",
    "\n",
    "# Simple Properties\n",
    "mw = Descriptors.MolWt(mol)                      # Molecular weight\n",
    "logp = Descriptors.MolLogP(mol)                  # LogP\n",
    "hbd = rdMolDescriptors.CalcNumHBD(mol)           # H-bond donors\n",
    "hba = rdMolDescriptors.CalcNumHBA(mol)           # H-bond acceptors\n",
    "\n",
    "# Topological Polar Surface Area\n",
    "tpsa = Descriptors.TPSA(mol)\n",
    "\n",
    "# Number of rotatable bonds\n",
    "rotbonds = Descriptors.NumRotatableBonds(mol)\n",
    "\n",
    "# Number of aromatic rings\n",
    "aromatic_rings = Descriptors.NumAromaticRings(mol)\n",
    "\n",
    "# QED (drug-likeness score)\n",
    "qed = QED.qed(mol)\n",
    "\n",
    "# Summary \n",
    "print(f'MW:\\t\\t{mw:.2f}')\n",
    "print(f'logP:\\t\\t{logp:.2f}')\n",
    "print(f'#HBD:\\t\\t{hbd}')\n",
    "print(f'#HBA:\\t\\t{hba}')\n",
    "print(f'TPSA:\\t\\t{tpsa:.2f}')\n",
    "print(f'#RotBonds:\\t{rotbonds}')\n",
    "print(f'#AromRings:\\t{aromatic_rings}')\n",
    "print(f'QED:\\t\\t{qed:.2f}')"
   ]
  },
  {
   "cell_type": "markdown",
   "metadata": {},
   "source": [
    "Now let's compute properties for all molecules"
   ]
  },
  {
   "cell_type": "code",
   "execution_count": null,
   "metadata": {},
   "outputs": [],
   "source": [
    "# Function to compute properties\n",
    "def calculate_properties(mol):\n",
    "  if mol is None:\n",
    "      return {}\n",
    "  try:\n",
    "      return {\n",
    "          'SMILES': Chem.MolToSmiles(mol),\n",
    "          'MW': Descriptors.MolWt(mol),\n",
    "          'LogP': Descriptors.MolLogP(mol),\n",
    "          'HBD': rdMolDescriptors.CalcNumHBD(mol),\n",
    "          'HBA': rdMolDescriptors.CalcNumHBA(mol),\n",
    "          'TPSA': Descriptors.TPSA(mol),\n",
    "          'RotBonds':Descriptors.NumRotatableBonds(mol),\n",
    "          'AromaticRings':Descriptors.NumAromaticRings(mol),\n",
    "          'QED': QED.qed(mol),\n",
    "          }\n",
    "  except:\n",
    "      print('Something went wrong!')\n",
    "      return {}"
   ]
  },
  {
   "cell_type": "code",
   "execution_count": null,
   "metadata": {},
   "outputs": [],
   "source": [
    "products = product_df['product mol']\n",
    "\n",
    "# Loop through products, computing properties using the function we made\n",
    "properties_list = []\n",
    "for mol in products: \n",
    "  props = calculate_properties(mol)\n",
    "  if props:\n",
    "      properties_list.append(props)\n",
    "df_properties = pd.DataFrame(properties_list)\n",
    "\n",
    "df_properties"
   ]
  },
  {
   "cell_type": "markdown",
   "metadata": {},
   "source": [
    "### _Visualize_"
   ]
  },
  {
   "cell_type": "code",
   "execution_count": null,
   "metadata": {},
   "outputs": [],
   "source": [
    "_ = df_properties.hist(figsize=(20,20))"
   ]
  },
  {
   "cell_type": "code",
   "execution_count": null,
   "metadata": {},
   "outputs": [],
   "source": [
    "from pandas.plotting import scatter_matrix"
   ]
  },
  {
   "cell_type": "code",
   "execution_count": null,
   "metadata": {},
   "outputs": [],
   "source": [
    "# Plot distributions and scatter matrix\n",
    "_= scatter_matrix(df_properties,diagonal=\"kde\",figsize=(15,15))"
   ]
  },
  {
   "cell_type": "code",
   "execution_count": null,
   "metadata": {},
   "outputs": [],
   "source": [
    "filter_df = df_properties.loc[df_properties['LogP'] > 2.0]\n",
    "print(f'{len(filter_df)}/{len(df_properties)} pass filter')\n",
    "filter_df.head()"
   ]
  },
  {
   "cell_type": "code",
   "execution_count": null,
   "metadata": {},
   "outputs": [],
   "source": [
    "filter_df.to_csv('amide_products_filtered.csv')"
   ]
  },
  {
   "cell_type": "code",
   "execution_count": null,
   "metadata": {},
   "outputs": [],
   "source": []
  },
  {
   "cell_type": "code",
   "execution_count": null,
   "metadata": {},
   "outputs": [],
   "source": []
  },
  {
   "cell_type": "code",
   "execution_count": null,
   "metadata": {},
   "outputs": [],
   "source": []
  },
  {
   "cell_type": "code",
   "execution_count": null,
   "metadata": {},
   "outputs": [],
   "source": []
  },
  {
   "cell_type": "markdown",
   "metadata": {},
   "source": [
    "# Free-Wilson Analysis Information\n",
    "\n",
    "A **Free-Wilson analysis** is a classical structure-activity relationship (SAR) method developed by Spencer Free and James Wilson in 1964. It's a **linear additive model** that decomposes molecular activity into contributions from individual substituents. In drug discovery, it can help you fill out your SAR for substituents you may have missed later on.\n",
    "\n",
    "### Key Concepts:\n",
    "- **Assumption**: Activity is the sum of contributions from individual substituents\n",
    "- **Equation**: `Activity = Constant + Σ(substituent contributions)`\n",
    "- **Applications**: Lead optimization, substituent prioritization, virtual library design\n",
    "\n",
    "### Pat Walters' Blog: **Practical Cheminformatics**\n",
    "- Pat Walters has a command line tool to assist in Free Wilson analyses\n",
    "- New Blog: https://patwalters.github.io/\n",
    "- Old Blog: https://practicalcheminformatics.blogspot.com/\n",
    "- Python Tutorials: https://github.com/PatWalters/practical_cheminformatics_tutorials\n",
    "- Free Wilson Analysis: https://practicalcheminformatics.blogspot.com/2018/05/free-wilson-analysis.html\n",
    "- Updates to Free Wilson Analysis: https://practicalcheminformatics.blogspot.com/2018/09/a-few-updates-to-free-wilson.html\n",
    "\n",
    "### Other Useful Resources\n",
    "- Is life worth living? Blog: https://iwatobipen.wordpress.com/\n",
    "- The RDKit Blog: https://greglandrum.github.io/rdkit-blog/\n",
    "- The RDKit Cookbook: https://www.rdkit.org/docs/GettingStartedInPython.html\n",
    "- StackOverflow, GitHub Pages, Medium Blogs\n"
   ]
  },
  {
   "cell_type": "code",
   "execution_count": null,
   "metadata": {},
   "outputs": [],
   "source": []
  }
 ],
 "metadata": {
  "kernelspec": {
   "display_name": "Python 3 (ipykernel)",
   "language": "python",
   "name": "python3"
  },
  "language_info": {
   "codemirror_mode": {
    "name": "ipython",
    "version": 3
   },
   "file_extension": ".py",
   "mimetype": "text/x-python",
   "name": "python",
   "nbconvert_exporter": "python",
   "pygments_lexer": "ipython3",
   "version": "3.12.0"
  }
 },
 "nbformat": 4,
 "nbformat_minor": 4
}
